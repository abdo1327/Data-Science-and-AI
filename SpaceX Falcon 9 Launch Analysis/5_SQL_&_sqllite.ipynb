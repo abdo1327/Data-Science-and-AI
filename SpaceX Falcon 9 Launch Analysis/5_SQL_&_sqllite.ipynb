{
  "cells": [
    {
      "cell_type": "markdown",
      "metadata": {
        "id": "GF5pE6c_rvWe"
      },
      "source": [
        "## Overview of the DataSet\n",
        "\n",
        "SpaceX has gained worldwide attention for a series of historic milestones.\n",
        "\n",
        "It is the only private company ever to return a spacecraft from low-earth orbit, which it first accomplished in December 2010.\n",
        "SpaceX advertises Falcon 9 rocket launches on its website with a cost of 62 million dollars wheras other providers cost upward of 165 million dollars each, much of the savings is because Space X can reuse the first stage.\n",
        "\n",
        "\n",
        "Therefore if we can determine if the first stage will land, we can determine the cost of a launch.\n",
        "\n",
        "This information can be used if an alternate company wants to bid against SpaceX for a rocket launch.\n",
        "\n",
        "This dataset includes a record for each payload carried during a SpaceX mission into outer space.\n"
      ]
    },
    {
      "cell_type": "markdown",
      "metadata": {
        "id": "zINhpmukrvWf"
      },
      "source": [
        "### Download the datasets\n",
        "\n",
        "This assignment requires you to load the spacex dataset.\n",
        "\n",
        "In many cases the dataset to be analyzed is available as a .CSV (comma separated values) file, perhaps on the internet. Click on the link below to download and save the dataset (.CSV file):\n",
        "\n",
        " <a href=\"https://cf-courses-data.s3.us.cloud-object-storage.appdomain.cloud/IBM-DS0321EN-SkillsNetwork/labs/module_2/data/Spacex.csv\" target=\"_blank\">Spacex DataSet</a>\n",
        "\n"
      ]
    },
    {
      "cell_type": "code",
      "execution_count": null,
      "metadata": {
        "id": "W91UPQxErvWg"
      },
      "outputs": [],
      "source": [
        "!pip install sqlalchemy==1.3.9\n"
      ]
    },
    {
      "cell_type": "markdown",
      "metadata": {
        "id": "8ggzESWdrvWh"
      },
      "source": [
        "### Connect to the database\n",
        "\n",
        "Let us first load the SQL extension and establish a connection with the database\n"
      ]
    },
    {
      "cell_type": "code",
      "execution_count": null,
      "metadata": {
        "tags": [],
        "id": "5dGUkiOOrvWh"
      },
      "outputs": [],
      "source": [
        "%load_ext sql"
      ]
    },
    {
      "cell_type": "code",
      "execution_count": null,
      "metadata": {
        "tags": [],
        "id": "9BnXpy8drvWh"
      },
      "outputs": [],
      "source": [
        "import csv, sqlite3\n",
        "\n",
        "con = sqlite3.connect(\"my_data1.db\")\n",
        "cur = con.cursor()"
      ]
    },
    {
      "cell_type": "code",
      "execution_count": null,
      "metadata": {
        "tags": [],
        "id": "EQJei2VHrvWi"
      },
      "outputs": [],
      "source": [
        "!pip install -q pandas==1.1.5"
      ]
    },
    {
      "cell_type": "code",
      "execution_count": null,
      "metadata": {
        "tags": [],
        "id": "s4w1GqRcrvWi",
        "outputId": "09cb2c0a-8a6a-4813-9e52-36271231c40a"
      },
      "outputs": [
        {
          "data": {
            "text/plain": [
              "'Connected: @my_data1.db'"
            ]
          },
          "execution_count": 4,
          "metadata": {},
          "output_type": "execute_result"
        }
      ],
      "source": [
        "%sql sqlite:///my_data1.db"
      ]
    },
    {
      "cell_type": "code",
      "execution_count": null,
      "metadata": {
        "tags": [],
        "id": "Y_d6sKuTrvWi"
      },
      "outputs": [],
      "source": [
        "import pandas as pd\n",
        "df = pd.read_csv(\"https://cf-courses-data.s3.us.cloud-object-storage.appdomain.cloud/IBM-DS0321EN-SkillsNetwork/labs/module_2/data/Spacex.csv\")\n",
        "df.to_sql(\"SPACEXTBL\", con, if_exists='replace', index=False,method=\"multi\")"
      ]
    },
    {
      "cell_type": "markdown",
      "metadata": {
        "id": "3wbwj8XYrvWj"
      },
      "source": [
        "**Note:This below code is added to remove blank rows from table**\n"
      ]
    },
    {
      "cell_type": "code",
      "execution_count": null,
      "metadata": {
        "tags": [],
        "id": "Ddwk8zlvrvWj",
        "outputId": "2c12cb3a-586d-4a40-fef2-2761314938dc"
      },
      "outputs": [
        {
          "name": "stdout",
          "output_type": "stream",
          "text": [
            " * sqlite:///my_data1.db\n",
            "(sqlite3.OperationalError) table SPACEXTABLE already exists\n",
            "[SQL: create table SPACEXTABLE as select * from SPACEXTBL where Date is not null]\n",
            "(Background on this error at: http://sqlalche.me/e/13/e3q8)\n"
          ]
        }
      ],
      "source": [
        "%sql create table SPACEXTABLE as select * from SPACEXTBL where Date is not null"
      ]
    },
    {
      "cell_type": "markdown",
      "metadata": {
        "id": "4hmkToOsrvWk"
      },
      "source": [
        "## Tasks\n",
        "\n",
        "Now write and execute SQL queries to solve the assignment tasks.\n",
        "\n",
        "**Note: If the column names are in mixed case enclose it in double quotes\n",
        "   For Example \"Landing_Outcome\"**\n",
        "\n",
        "### Task 1\n",
        "\n",
        "\n",
        "\n",
        "\n",
        "##### Display the names of the unique launch sites  in the space mission\n"
      ]
    },
    {
      "cell_type": "code",
      "execution_count": null,
      "metadata": {
        "tags": [],
        "id": "DASnG-iCrvWl",
        "outputId": "d240e375-5d30-4d8b-ee6d-2dd0c5d419fb"
      },
      "outputs": [
        {
          "name": "stdout",
          "output_type": "stream",
          "text": [
            "[('CCAFS LC-40',), ('VAFB SLC-4E',), ('KSC LC-39A',), ('CCAFS SLC-40',)]\n"
          ]
        }
      ],
      "source": [
        "conn = sqlite3.connect('my_data1.db')\n",
        "\n",
        "# Create a cursor object\n",
        "cursor = conn.cursor()\n",
        "\n",
        "# Execute the SQL query\n",
        "cursor.execute('''\n",
        "    SELECT DISTINCT  \"Launch_Site\"\n",
        "    FROM SPACEXTBL\n",
        "''')\n",
        "\n",
        "# Fetch all the results\n",
        "results = cursor.fetchall()\n",
        "\n",
        "print(results)\n"
      ]
    },
    {
      "cell_type": "markdown",
      "metadata": {
        "id": "cA8nhYa5rvWl"
      },
      "source": [
        "\n",
        "### Task 2\n",
        "\n",
        "\n",
        "#####  Display 5 records where launch sites begin with the string 'CCA'\n"
      ]
    },
    {
      "cell_type": "code",
      "execution_count": null,
      "metadata": {
        "tags": [],
        "id": "Ts8VQDhorvWm",
        "outputId": "ee82d511-bd3f-4190-f493-25f71361f5b3"
      },
      "outputs": [
        {
          "name": "stdout",
          "output_type": "stream",
          "text": [
            "[('2010-06-04', '18:45:00', 'F9 v1.0  B0003', 'CCAFS LC-40', 'Dragon Spacecraft Qualification Unit', 0, 'LEO', 'SpaceX', 'Success', 'Failure (parachute)'), ('2010-12-08', '15:43:00', 'F9 v1.0  B0004', 'CCAFS LC-40', 'Dragon demo flight C1, two CubeSats, barrel of Brouere cheese', 0, 'LEO (ISS)', 'NASA (COTS) NRO', 'Success', 'Failure (parachute)'), ('2012-05-22', '7:44:00', 'F9 v1.0  B0005', 'CCAFS LC-40', 'Dragon demo flight C2', 525, 'LEO (ISS)', 'NASA (COTS)', 'Success', 'No attempt'), ('2012-10-08', '0:35:00', 'F9 v1.0  B0006', 'CCAFS LC-40', 'SpaceX CRS-1', 500, 'LEO (ISS)', 'NASA (CRS)', 'Success', 'No attempt'), ('2013-03-01', '15:10:00', 'F9 v1.0  B0007', 'CCAFS LC-40', 'SpaceX CRS-2', 677, 'LEO (ISS)', 'NASA (CRS)', 'Success', 'No attempt')]\n"
          ]
        }
      ],
      "source": [
        "\n",
        "\n",
        "conn = sqlite3.connect('my_data1.db')\n",
        "\n",
        "# Create a cursor object\n",
        "cursor = conn.cursor()\n",
        "\n",
        "# Execute the SQL query\n",
        "cursor.execute('''\n",
        "SELECT *\n",
        "FROM SPACEXTBL\n",
        "WHERE \"Launch_Site\" LIKE 'CCA%'\n",
        "LIMIT 5;\n",
        "''')\n",
        "\n",
        "# Fetch all the results\n",
        "results = cursor.fetchall()\n",
        "\n",
        "print(results)"
      ]
    },
    {
      "cell_type": "markdown",
      "metadata": {
        "id": "xgYXl5iDrvWm"
      },
      "source": [
        "### Task 3\n",
        "\n",
        "\n",
        "\n",
        "\n",
        "##### Display the total payload mass carried by boosters launched by NASA (CRS)\n"
      ]
    },
    {
      "cell_type": "code",
      "execution_count": null,
      "metadata": {
        "tags": [],
        "id": "MpuaeGMqrvWm",
        "outputId": "9eb32290-82c5-48a6-ac37-3d6704789e90"
      },
      "outputs": [
        {
          "name": "stdout",
          "output_type": "stream",
          "text": [
            "[(45596,)]\n"
          ]
        }
      ],
      "source": [
        "\n",
        "\n",
        "conn = sqlite3.connect('my_data1.db')\n",
        "\n",
        "# Create a cursor object\n",
        "cursor = conn.cursor()\n",
        "\n",
        "# Execute the SQL query\n",
        "cursor.execute('''\n",
        "SELECT SUM(\"PAYLOAD_MASS__KG_\") AS \"TotalPayloadMass\"\n",
        "FROM SPACEXTBL\n",
        "WHERE \"Customer\" = 'NASA (CRS)';\n",
        "''')\n",
        "\n",
        "# Fetch all the results\n",
        "results = cursor.fetchall()\n",
        "\n",
        "print(results)"
      ]
    },
    {
      "cell_type": "markdown",
      "metadata": {
        "id": "e1djhjEurvWn"
      },
      "source": [
        "### Task 4\n",
        "\n",
        "\n",
        "\n",
        "\n",
        "##### Display average payload mass carried by booster version F9 v1.1\n"
      ]
    },
    {
      "cell_type": "code",
      "execution_count": null,
      "metadata": {
        "tags": [],
        "id": "L7OPH9_urvWn",
        "outputId": "df323dc9-8459-4ab2-cc0b-7ef2de632175"
      },
      "outputs": [
        {
          "name": "stdout",
          "output_type": "stream",
          "text": [
            "[(2928.4,)]\n"
          ]
        }
      ],
      "source": [
        "conn = sqlite3.connect('my_data1.db')\n",
        "\n",
        "# Create a cursor object\n",
        "cursor = conn.cursor()\n",
        "\n",
        "# Execute the SQL query\n",
        "cursor.execute('''\n",
        "SELECT avg(\"PAYLOAD_MASS__KG_\") AS \"TotalPayloadMass\"\n",
        "FROM SPACEXTBL\n",
        "WHERE \"Booster_Version\" = 'F9 v1.1';\n",
        "''')\n",
        "\n",
        "# Fetch all the results\n",
        "results = cursor.fetchall()\n",
        "\n",
        "print(results)"
      ]
    },
    {
      "cell_type": "markdown",
      "metadata": {
        "id": "cT9oKlzIrvWn"
      },
      "source": [
        "### Task 5\n",
        "\n",
        "##### List the date when the first succesful landing outcome in ground pad was acheived.\n",
        "\n",
        "\n",
        "_Hint:Use min function_\n"
      ]
    },
    {
      "cell_type": "code",
      "execution_count": null,
      "metadata": {
        "tags": [],
        "id": "ZslQdk3rrvWn",
        "outputId": "3e9dfefe-dbbc-4774-ef2a-06243a3e756a"
      },
      "outputs": [
        {
          "name": "stdout",
          "output_type": "stream",
          "text": [
            "[('2015-12-22',)]\n"
          ]
        }
      ],
      "source": [
        "conn = sqlite3.connect('my_data1.db')\n",
        "\n",
        "# Create a cursor object\n",
        "cursor = conn.cursor()\n",
        "\n",
        "# Execute the SQL query\n",
        "cursor.execute('''\n",
        "SELECT MIN(\"Date\") AS \"FirstSuccessful\"\n",
        "FROM SPACEXTBL\n",
        "WHERE \"Landing_Outcome\" = 'Success (ground pad)';\n",
        "''')\n",
        "\n",
        "# Fetch all the results\n",
        "results = cursor.fetchall()\n",
        "\n",
        "print(results)"
      ]
    },
    {
      "cell_type": "markdown",
      "metadata": {
        "id": "I8C1Wm0qrvWn"
      },
      "source": [
        "### Task 6\n",
        "\n",
        "##### List the names of the boosters which have success in drone ship and have payload mass greater than 4000 but less than 6000\n"
      ]
    },
    {
      "cell_type": "code",
      "execution_count": null,
      "metadata": {
        "tags": [],
        "id": "8LQa1HzUrvWo",
        "outputId": "28cd239e-d6e8-46f0-b29d-b4b9692c46b8"
      },
      "outputs": [
        {
          "name": "stdout",
          "output_type": "stream",
          "text": [
            "[('F9 FT B1022',), ('F9 FT B1026',), ('F9 FT  B1021.2',), ('F9 FT  B1031.2',)]\n"
          ]
        }
      ],
      "source": [
        "conn = sqlite3.connect('my_data1.db')\n",
        "\n",
        "# Create a cursor object\n",
        "cursor = conn.cursor()\n",
        "\n",
        "# Execute the SQL query\n",
        "cursor.execute('''\n",
        "SELECT DISTINCT \"Booster_Version\"\n",
        "FROM SPACEXTBL\n",
        "WHERE \"Landing_Outcome\" = 'Success (drone ship)'\n",
        "AND \"PAYLOAD_MASS__KG_\" > 4000\n",
        "AND \"PAYLOAD_MASS__KG_\" < 6000;\n",
        "''')\n",
        "\n",
        "# Fetch all the results\n",
        "results = cursor.fetchall()\n",
        "\n",
        "print(results)"
      ]
    },
    {
      "cell_type": "markdown",
      "metadata": {
        "id": "F8QPzI3LrvWo"
      },
      "source": [
        "### Task 7\n",
        "\n",
        "\n",
        "\n",
        "\n",
        "##### List the total number of successful and failure mission outcomes\n"
      ]
    },
    {
      "cell_type": "code",
      "execution_count": null,
      "metadata": {
        "tags": [],
        "id": "C10DF1LwrvWo",
        "outputId": "4da05f31-10df-467b-be50-e4b7abdf9cc4"
      },
      "outputs": [
        {
          "name": "stdout",
          "output_type": "stream",
          "text": [
            "[('Failure (in flight)', 1), ('Success', 98), ('Success ', 1), ('Success (payload status unclear)', 1)]\n"
          ]
        }
      ],
      "source": [
        "\n",
        "conn = sqlite3.connect('my_data1.db')\n",
        "\n",
        "# Create a cursor object\n",
        "cursor = conn.cursor()\n",
        "\n",
        "# Execute the SQL query\n",
        "cursor.execute('''\n",
        "SELECT \"Mission_Outcome\", COUNT(*) AS \"TotalCount\"\n",
        "FROM SPACEXTBL\n",
        "GROUP BY \"Mission_Outcome\";\n",
        "\n",
        "''')\n",
        "\n",
        "# Fetch all the results\n",
        "results = cursor.fetchall()\n",
        "\n",
        "print(results)"
      ]
    },
    {
      "cell_type": "markdown",
      "metadata": {
        "id": "Gt_yU0nGrvWo"
      },
      "source": [
        "### Task 8\n",
        "\n",
        "\n",
        "\n",
        "##### List the   names of the booster_versions which have carried the maximum payload mass. Use a subquery\n"
      ]
    },
    {
      "cell_type": "code",
      "execution_count": null,
      "metadata": {
        "tags": [],
        "id": "RSs6vzzmrvWo",
        "outputId": "b4e4167b-4825-4b24-d58d-a3aa35f7932a"
      },
      "outputs": [
        {
          "name": "stdout",
          "output_type": "stream",
          "text": [
            "[('F9 B5 B1048.4',), ('F9 B5 B1049.4',), ('F9 B5 B1051.3',), ('F9 B5 B1056.4',), ('F9 B5 B1048.5',), ('F9 B5 B1051.4',), ('F9 B5 B1049.5',), ('F9 B5 B1060.2 ',), ('F9 B5 B1058.3 ',), ('F9 B5 B1051.6',), ('F9 B5 B1060.3',), ('F9 B5 B1049.7 ',)]\n"
          ]
        }
      ],
      "source": [
        "conn = sqlite3.connect('my_data1.db')\n",
        "\n",
        "# Create a cursor object\n",
        "cursor = conn.cursor()\n",
        "\n",
        "# Execute the SQL query\n",
        "cursor.execute('''\n",
        "SELECT DISTINCT \"Booster_Version\"\n",
        "FROM SPACEXTBL\n",
        "WHERE \"PAYLOAD_MASS__KG_\" = (\n",
        "    SELECT MAX(\"PAYLOAD_MASS__KG_\")\n",
        "    FROM SPACEXTBL\n",
        ");\n",
        "\n",
        "''')\n",
        "\n",
        "# Fetch all the results\n",
        "results = cursor.fetchall()\n",
        "\n",
        "print(results)"
      ]
    },
    {
      "cell_type": "markdown",
      "metadata": {
        "id": "53JbFS6NrvWp"
      },
      "source": [
        "### Task 9\n",
        "\n",
        "\n",
        "##### List the records which will display the month names, failure landing_outcomes in drone ship ,booster versions, launch_site for the months in year 2015.\n",
        "\n",
        "**Note: SQLLite does not support monthnames. So you need to use  substr(Date, 6,2) as month to get the months and substr(Date,0,5)='2015' for year.**\n"
      ]
    },
    {
      "cell_type": "code",
      "execution_count": null,
      "metadata": {
        "tags": [],
        "id": "_8My-j7orvWp",
        "outputId": "0292fde3-02ca-4d82-c41e-bb9fea6aa90a"
      },
      "outputs": [
        {
          "name": "stdout",
          "output_type": "stream",
          "text": [
            "[('2015-01-10',), ('2015-04-14',)]\n"
          ]
        }
      ],
      "source": [
        "cursor = conn.cursor()\n",
        "\n",
        "# Execute the SQL query\n",
        "cursor.execute('''\n",
        "SELECT Date\n",
        "FROM\n",
        "    SPACEXTBL\n",
        "WHERE\n",
        "    substr(\"Date\", 0, 5) = '2015'\n",
        "    AND \"Landing_Outcome\" LIKE 'Failure (drone ship)'\n",
        "''')\n",
        "\n",
        "# Fetch all the results\n",
        "results = cursor.fetchall()\n",
        "\n",
        "print(results)\n"
      ]
    },
    {
      "cell_type": "markdown",
      "metadata": {
        "id": "qimf0-kYrvWp"
      },
      "source": [
        "### Task 10\n",
        "\n",
        "\n",
        "\n",
        "\n",
        "##### Rank the count of landing outcomes (such as Failure (drone ship) or Success (ground pad)) between the date 2010-06-04 and 2017-03-20, in descending order.\n"
      ]
    },
    {
      "cell_type": "code",
      "execution_count": null,
      "metadata": {
        "tags": [],
        "id": "wymxZcw_rvWp",
        "outputId": "55ddb2b3-ac07-40f2-fa93-d0e8304e6375"
      },
      "outputs": [
        {
          "name": "stdout",
          "output_type": "stream",
          "text": [
            "[('No attempt', 10), ('Success (drone ship)', 5), ('Failure (drone ship)', 5), ('Success (ground pad)', 3), ('Controlled (ocean)', 3), ('Uncontrolled (ocean)', 2), ('Failure (parachute)', 2), ('Precluded (drone ship)', 1)]\n"
          ]
        }
      ],
      "source": [
        "cursor = conn.cursor()\n",
        "\n",
        "# Execute the SQL query\n",
        "cursor.execute('''\n",
        "SELECT\n",
        "    \"Landing_Outcome\",\n",
        "    COUNT(*) AS \"OutcomeCount\"\n",
        "FROM\n",
        "    SPACEXTBL\n",
        "WHERE\n",
        "    \"Date\" BETWEEN '2010-06-04' AND '2017-03-20'\n",
        "GROUP BY\n",
        "    \"Landing_Outcome\"\n",
        "ORDER BY\n",
        "    \"OutcomeCount\" DESC;\n",
        "\n",
        "''')\n",
        "\n",
        "# Fetch all the results\n",
        "results = cursor.fetchall()\n",
        "\n",
        "print(results)\n"
      ]
    },
    {
      "cell_type": "markdown",
      "metadata": {
        "id": "F_WaoIz9rvWq"
      },
      "source": [
        "### Reference Links\n",
        "\n",
        "* <a href =\"https://cf-courses-data.s3.us.cloud-object-storage.appdomain.cloud/IBMDeveloperSkillsNetwork-DB0201EN-SkillsNetwork/labs/Labs_Coursera_V5/labs/Lab%20-%20String%20Patterns%20-%20Sorting%20-%20Grouping/instructional-labs.md.html?origin=www.coursera.org\">Hands-on Lab : String Patterns, Sorting and Grouping</a>  \n",
        "\n",
        "*  <a  href=\"https://cf-courses-data.s3.us.cloud-object-storage.appdomain.cloud/IBMDeveloperSkillsNetwork-DB0201EN-SkillsNetwork/labs/Labs_Coursera_V5/labs/Lab%20-%20Built-in%20functions%20/Hands-on_Lab__Built-in_Functions.md.html?origin=www.coursera.org\">Hands-on Lab: Built-in functions</a>\n",
        "\n",
        "*  <a  href=\"https://cf-courses-data.s3.us.cloud-object-storage.appdomain.cloud/IBMDeveloperSkillsNetwork-DB0201EN-SkillsNetwork/labs/Labs_Coursera_V5/labs/Lab%20-%20Sub-queries%20and%20Nested%20SELECTs%20/instructional-labs.md.html?origin=www.coursera.org\">Hands-on Lab : Sub-queries and Nested SELECT Statements</a>\n",
        "\n",
        "*   <a href=\"https://cf-courses-data.s3.us.cloud-object-storage.appdomain.cloud/IBMDeveloperSkillsNetwork-DB0201EN-SkillsNetwork/labs/Module%205/DB0201EN-Week3-1-3-SQLmagic.ipynb\">Hands-on Tutorial: Accessing Databases with SQL magic</a>\n",
        "\n",
        "*  <a href= \"https://cf-courses-data.s3.us.cloud-object-storage.appdomain.cloud/IBMDeveloperSkillsNetwork-DB0201EN-SkillsNetwork/labs/Module%205/DB0201EN-Week3-1-4-Analyzing.ipynb\">Hands-on Lab: Analyzing a real World Data Set</a>\n",
        "\n",
        "\n"
      ]
    },
    {
      "cell_type": "markdown",
      "metadata": {
        "id": "txhTpxwbrvWq"
      },
      "source": [
        "## Author(s)\n",
        "\n",
        "<h4> Lakshmi Holla </h4>\n"
      ]
    },
    {
      "cell_type": "markdown",
      "metadata": {
        "id": "vAlYNgdJrvWq"
      },
      "source": [
        "## Other Contributors\n",
        "\n",
        "<h4> Rav Ahuja </h4>\n"
      ]
    },
    {
      "cell_type": "markdown",
      "metadata": {
        "id": "f27XWP8GrvWq"
      },
      "source": [
        "## Change log\n",
        "| Date | Version | Changed by | Change Description |\n",
        "|------|--------|--------|---------|\n",
        "| 2021-07-09 | 0.2 |Lakshmi Holla | Changes made in magic sql|\n",
        "| 2021-05-20 | 0.1 |Lakshmi Holla | Created Initial Version |\n"
      ]
    },
    {
      "cell_type": "markdown",
      "metadata": {
        "id": "jwJcUXTBrvWr"
      },
      "source": [
        "## <h3 align=\"center\"> © IBM Corporation 2021. All rights reserved. <h3/>\n"
      ]
    }
  ],
  "metadata": {
    "kernelspec": {
      "display_name": "Python",
      "language": "python",
      "name": "conda-env-python-py"
    },
    "language_info": {
      "codemirror_mode": {
        "name": "ipython",
        "version": 3
      },
      "file_extension": ".py",
      "mimetype": "text/x-python",
      "name": "python",
      "nbconvert_exporter": "python",
      "pygments_lexer": "ipython3",
      "version": "3.7.12"
    },
    "colab": {
      "provenance": []
    }
  },
  "nbformat": 4,
  "nbformat_minor": 0
}